{
  "nbformat": 4,
  "nbformat_minor": 0,
  "metadata": {
    "colab": {
      "provenance": [],
      "collapsed_sections": []
    },
    "kernelspec": {
      "name": "python3",
      "display_name": "Python 3"
    },
    "language_info": {
      "name": "python"
    },
    "accelerator": "GPU"
  },
  "cells": [
    {
      "cell_type": "markdown",
      "source": [
        "# Urban Sound Classification(Chapter 2)"
      ],
      "metadata": {
        "id": "-PQk2b-O5zm_"
      }
    },
    {
      "cell_type": "code",
      "source": [
        "from google.colab import drive\n",
        "import os\n",
        "drive.mount(\"/content/drive\")\n",
        "os.chdir(\"/content/drive/My Drive/global_ai_hub\")"
      ],
      "metadata": {
        "colab": {
          "base_uri": "https://localhost:8080/"
        },
        "id": "Jgurdct5uFZo",
        "outputId": "b860d995-13e4-4418-a039-57a0a7e0b6eb"
      },
      "execution_count": 1,
      "outputs": [
        {
          "output_type": "stream",
          "name": "stdout",
          "text": [
            "Drive already mounted at /content/drive; to attempt to forcibly remount, call drive.mount(\"/content/drive\", force_remount=True).\n"
          ]
        }
      ]
    },
    {
      "cell_type": "code",
      "source": [
        "import pandas as pd\n",
        "import numpy as np\n",
        "import matplotlib.pyplot as plt\n",
        "import tensorflow as tf\n",
        "from google.colab.patches import cv2_imshow\n",
        "import cv2"
      ],
      "metadata": {
        "id": "qSr-Uj5hlDID"
      },
      "execution_count": 2,
      "outputs": []
    },
    {
      "cell_type": "markdown",
      "source": [
        "### \"chapter1.ipynb\" notebook'unda işleyip kaydettiğimiz verileri çekelim:"
      ],
      "metadata": {
        "id": "HNT0U-rg4jpf"
      }
    },
    {
      "cell_type": "code",
      "source": [
        "import csv\n",
        "with open('images.csv', newline='') as f:\n",
        "    reader = csv.reader(f)\n",
        "    X = np.array(list(reader))"
      ],
      "metadata": {
        "id": "lc7aeVFqioFm"
      },
      "execution_count": 3,
      "outputs": []
    },
    {
      "cell_type": "code",
      "source": [
        "with open('labels.csv', newline='') as f:\n",
        "    reader = csv.reader(f)\n",
        "    y = np.array(list(reader))"
      ],
      "metadata": {
        "id": "TnEgTuuzmGPj"
      },
      "execution_count": 4,
      "outputs": []
    },
    {
      "cell_type": "code",
      "source": [],
      "metadata": {
        "id": "VfDy9OnIxbXR"
      },
      "execution_count": 5,
      "outputs": []
    },
    {
      "cell_type": "code",
      "source": [
        "print(X.shape)"
      ],
      "metadata": {
        "colab": {
          "base_uri": "https://localhost:8080/"
        },
        "id": "5pcjE7Ra2Npf",
        "outputId": "7a745bba-cf55-4e1e-de71-a83c795eceb2"
      },
      "execution_count": 6,
      "outputs": [
        {
          "output_type": "stream",
          "name": "stdout",
          "text": [
            "(8732, 10000)\n"
          ]
        }
      ]
    },
    {
      "cell_type": "markdown",
      "source": [
        "### Birinci bölümde, üç boyutlu resim array'ini (8732, 100, 100) kaydedebilmek için iki boyuta getirmiştik (8732, 10000). Şimdi eğitimde kullanmak üzere; kaydettiğimiz yerden okuduğumuz iki boyutlu X array'ini tekrar üç boyutlu hale getirmemiz gerekiyor:"
      ],
      "metadata": {
        "id": "K7fevdon5JLg"
      }
    },
    {
      "cell_type": "code",
      "source": [
        "X= X.reshape(X.shape[0],int(np.sqrt(X.shape[1])),int(np.sqrt(X.shape[1])))"
      ],
      "metadata": {
        "id": "i_h2FDlM2QOv"
      },
      "execution_count": 7,
      "outputs": []
    },
    {
      "cell_type": "code",
      "source": [
        "X.shape"
      ],
      "metadata": {
        "colab": {
          "base_uri": "https://localhost:8080/"
        },
        "id": "WI65f-lj2Z6Q",
        "outputId": "c63783c3-b201-433f-efe7-82cf1f80c8e8"
      },
      "execution_count": 8,
      "outputs": [
        {
          "output_type": "execute_result",
          "data": {
            "text/plain": [
              "(8732, 100, 100)"
            ]
          },
          "metadata": {},
          "execution_count": 8
        }
      ]
    },
    {
      "cell_type": "code",
      "source": [
        "y.shape"
      ],
      "metadata": {
        "colab": {
          "base_uri": "https://localhost:8080/"
        },
        "id": "v6XTmLHQ2bet",
        "outputId": "254a62ba-701d-4b10-dcca-5786103ef3e9"
      },
      "execution_count": 9,
      "outputs": [
        {
          "output_type": "execute_result",
          "data": {
            "text/plain": [
              "(8732,)"
            ]
          },
          "metadata": {},
          "execution_count": 9
        }
      ]
    },
    {
      "cell_type": "markdown",
      "source": [
        "* Artık veriyi train(%85), valid(%10), test(%5) olarak bölebiliriz. Bölme oranları istenildiği gibi oluşturulabilir."
      ],
      "metadata": {
        "id": "mHP6_SLfEOUi"
      }
    },
    {
      "cell_type": "code",
      "source": [
        "train_per=0.85\n",
        "val_per=0.1\n",
        "test_per=0.05\n",
        "total_size=len(X) #Elimizdeki toplam veri sayısı\n",
        "\n",
        "# 0'dan başlayıp toplam veri sayısının %85'ine kadarki kısmı train için ayır. Aynı şeyi etiketleri için de yap.\n",
        "X_train=X[:int(total_size*train_per)] \n",
        "y_train=y[:int(total_size*train_per)] \n",
        "\n",
        "# X'in %85'lik kısmının son elemanından başlayıp %95'lik kısmına kadar validasyon verisi için ayır. Aynı şeyi etiketleri için de yap.\n",
        "X_val=X[int(total_size*train_per):int(total_size*(train_per+val_per))] \n",
        "y_val=y[int(total_size*train_per):int(total_size*(train_per+val_per))]\n",
        "\n",
        "# X'in %95'lik kısmının son elemanından başlayıp X'in son elemanına kadar ayır. Aynı şeyi etiketleri için de yap.\n",
        "X_test=X[int(total_size*(train_per+val_per)):]\n",
        "y_test=y[int(total_size*(train_per+val_per)):]"
      ],
      "metadata": {
        "id": "S4yajbYKezRk"
      },
      "execution_count": 10,
      "outputs": []
    },
    {
      "cell_type": "markdown",
      "source": [
        "* Bölme işlemi sonucu:\n",
        "\n",
        "Train Veri Sayısı: 7422\n",
        "\n",
        "Validasyon Veri Sayısı: 873\n",
        "\n",
        "Test Veri Sayısı: 437"
      ],
      "metadata": {
        "id": "a7dJBOBQGFhb"
      }
    },
    {
      "cell_type": "code",
      "source": [
        "print(f\"Len of X_train:{len(X_train)}\")\n",
        "print(f\"Len of y_train:{len(y_train)}\")\n",
        "print(f\"Len of X_val:{len(X_val)}\")\n",
        "print(f\"Len of y_val:{len(y_val)}\")\n",
        "print(f\"Len of X_test:{len(X_test)}\")\n",
        "print(f\"Len of y_test:{len(y_test)}\")"
      ],
      "metadata": {
        "colab": {
          "base_uri": "https://localhost:8080/"
        },
        "id": "2ediAnlaiNnb",
        "outputId": "f9feb2ce-63a8-42f7-e5d0-91774dbb1522"
      },
      "execution_count": 11,
      "outputs": [
        {
          "output_type": "stream",
          "name": "stdout",
          "text": [
            "Len of X_train:7422\n",
            "Len of y_train:7422\n",
            "Len of X_val:873\n",
            "Len of y_val:873\n",
            "Len of X_test:437\n",
            "Len of y_test:437\n"
          ]
        }
      ]
    },
    {
      "cell_type": "markdown",
      "source": [
        "* Eğitim için kullanılacak X_train array'inin boyutu (3920, 100, 100) şeklinde. Bunun anlamı; X_train içinde (100,100) boyutunda 3920 adet resim var.\n",
        "\n",
        "* y_train array'inin boyutu ise (3920,) şeklinde. Bunun anlamı; 3920 adet 0 boyutlu(bildiğimiz 3, 5 gibi sayılar) etiket var."
      ],
      "metadata": {
        "id": "HUixGWUCGW_o"
      }
    },
    {
      "cell_type": "code",
      "source": [
        "print(X_train.shape)\n",
        "print(y_train.shape)\n",
        "print(\"y_train'nin ilk 10 elemanı:\")\n",
        "print(y_train[0:10])"
      ],
      "metadata": {
        "colab": {
          "base_uri": "https://localhost:8080/"
        },
        "id": "MngZh6Otb6At",
        "outputId": "aa39b1f7-2b46-41b0-ca22-533a5a76d99e"
      },
      "execution_count": 12,
      "outputs": [
        {
          "output_type": "stream",
          "name": "stdout",
          "text": [
            "(7422, 100, 100)\n",
            "(7422,)\n",
            "y_train'nin ilk 10 elemanı:\n",
            "[8 2 5 1 2 2 8 7 2 0]\n"
          ]
        }
      ]
    },
    {
      "cell_type": "markdown",
      "source": [
        "## 3. Model Hazırlanması ve Eğitimi - Notebook\n",
        "a. Bir CNN modeli hazırlayın.\n",
        "\n",
        "b. Modeli hazırlamış olduğunuz veriyi kullanarak eğitin.\n",
        "\n",
        "c. Modelin performans metriklerini, loss ve accuracy grafiklerini ekrana yazdırın.\n",
        "\n",
        "d. Aldığınız sonuçlara göre hyperparameter optimization yapın."
      ],
      "metadata": {
        "id": "VBDq2yvB6t5g"
      }
    },
    {
      "cell_type": "code",
      "source": [
        "# Konvolüsyon Katmanları:\n",
        "model=tf.keras.Sequential()\n",
        "model.add(tf.keras.layers.Conv2D(32,\n",
        "                                 kernel_size=(3,3),\n",
        "                                 strides=(1,1),\n",
        "                                 padding=\"same\",\n",
        "                                 activation=\"relu\",\n",
        "                                 input_shape=(100,100,1))) # Ön İşlemede tüm resimleri sabit (100,100) yapmıştık. 1 ifadesi resimlerin gri olduğunu\n",
        "model.add(tf.keras.layers.MaxPool2D((2,2)))                # belirtiyor.\n",
        "model.add(tf.keras.layers.Conv2D(64,\n",
        "                                 kernel_size=(3,3),\n",
        "                                 strides=(1,1),\n",
        "                                 padding=\"same\",\n",
        "                                 activation=\"relu\"))\n",
        "model.add(tf.keras.layers.MaxPool2D((2,2)))\n",
        "model.add(tf.keras.layers.Conv2D(128,\n",
        "                                 kernel_size=(3,3),\n",
        "                                 strides=(1,1),\n",
        "                                 padding=\"same\",\n",
        "                                 activation=\"relu\"))\n",
        "model.add(tf.keras.layers.MaxPool2D((2,2)))\n",
        "model.add(tf.keras.layers.Conv2D(256,\n",
        "                                 kernel_size=(3,3),\n",
        "                                 strides=(1,1),\n",
        "                                 padding=\"same\",\n",
        "                                 activation=\"relu\"))\n",
        "model.add(tf.keras.layers.MaxPool2D((2,2)))\n",
        "\n",
        "#  Neural Network Katmanı:\n",
        "model.add(tf.keras.layers.Flatten())\n",
        "model.add(tf.keras.layers.Dense(512, activation=\"relu\"))\n",
        "model.add(tf.keras.layers.Dropout(0.81))\n",
        "model.add(tf.keras.layers.Dense(1024, activation=\"relu\"))\n",
        "model.add(tf.keras.layers.Dropout(0.81))\n",
        "model.add(tf.keras.layers.Dense(10, activation=\"softmax\"))"
      ],
      "metadata": {
        "id": "06ko42NE60fj"
      },
      "execution_count": 13,
      "outputs": []
    },
    {
      "cell_type": "code",
      "source": [
        "model.compile(optimizer=\"adam\", loss=\"sparse_categorical_crossentropy\", metrics=[\"accuracy\"])"
      ],
      "metadata": {
        "id": "cY3SGWe2_PLI"
      },
      "execution_count": 14,
      "outputs": []
    },
    {
      "cell_type": "code",
      "source": [
        "results=model.fit(X_train, y_train, batch_size=128, epochs=20, validation_data=(X_val, y_val))"
      ],
      "metadata": {
        "id": "hAvyi1DX_aIk",
        "colab": {
          "base_uri": "https://localhost:8080/"
        },
        "outputId": "0e6bd961-23e3-49e0-95b1-a102fb9972ee"
      },
      "execution_count": 15,
      "outputs": [
        {
          "output_type": "stream",
          "name": "stdout",
          "text": [
            "Epoch 1/20\n",
            "58/58 [==============================] - 8s 83ms/step - loss: 2.1888 - accuracy: 0.1640 - val_loss: 1.9320 - val_accuracy: 0.3013\n",
            "Epoch 2/20\n",
            "58/58 [==============================] - 4s 63ms/step - loss: 1.8215 - accuracy: 0.3083 - val_loss: 1.5566 - val_accuracy: 0.4742\n",
            "Epoch 3/20\n",
            "58/58 [==============================] - 4s 61ms/step - loss: 1.5197 - accuracy: 0.4394 - val_loss: 1.2654 - val_accuracy: 0.5979\n",
            "Epoch 4/20\n",
            "58/58 [==============================] - 4s 61ms/step - loss: 1.2547 - accuracy: 0.5485 - val_loss: 0.9440 - val_accuracy: 0.6942\n",
            "Epoch 5/20\n",
            "58/58 [==============================] - 4s 63ms/step - loss: 1.0719 - accuracy: 0.6268 - val_loss: 0.8284 - val_accuracy: 0.7617\n",
            "Epoch 6/20\n",
            "58/58 [==============================] - 4s 63ms/step - loss: 0.9165 - accuracy: 0.6960 - val_loss: 0.6692 - val_accuracy: 0.7950\n",
            "Epoch 7/20\n",
            "58/58 [==============================] - 4s 64ms/step - loss: 0.8037 - accuracy: 0.7348 - val_loss: 0.6552 - val_accuracy: 0.7915\n",
            "Epoch 8/20\n",
            "58/58 [==============================] - 4s 61ms/step - loss: 0.7164 - accuracy: 0.7617 - val_loss: 0.5354 - val_accuracy: 0.8293\n",
            "Epoch 9/20\n",
            "58/58 [==============================] - 4s 61ms/step - loss: 0.5955 - accuracy: 0.8079 - val_loss: 0.5788 - val_accuracy: 0.8247\n",
            "Epoch 10/20\n",
            "58/58 [==============================] - 4s 61ms/step - loss: 0.5316 - accuracy: 0.8324 - val_loss: 0.4783 - val_accuracy: 0.8465\n",
            "Epoch 11/20\n",
            "58/58 [==============================] - 4s 61ms/step - loss: 0.4617 - accuracy: 0.8530 - val_loss: 0.3945 - val_accuracy: 0.8774\n",
            "Epoch 12/20\n",
            "58/58 [==============================] - 4s 61ms/step - loss: 0.4351 - accuracy: 0.8693 - val_loss: 0.4253 - val_accuracy: 0.8545\n",
            "Epoch 13/20\n",
            "58/58 [==============================] - 4s 61ms/step - loss: 0.3789 - accuracy: 0.8801 - val_loss: 0.3446 - val_accuracy: 0.8855\n",
            "Epoch 14/20\n",
            "58/58 [==============================] - 4s 61ms/step - loss: 0.3416 - accuracy: 0.8938 - val_loss: 0.3704 - val_accuracy: 0.8820\n",
            "Epoch 15/20\n",
            "58/58 [==============================] - 4s 64ms/step - loss: 0.3053 - accuracy: 0.9031 - val_loss: 0.3196 - val_accuracy: 0.8935\n",
            "Epoch 16/20\n",
            "58/58 [==============================] - 4s 64ms/step - loss: 0.2896 - accuracy: 0.9073 - val_loss: 0.2888 - val_accuracy: 0.9061\n",
            "Epoch 17/20\n",
            "58/58 [==============================] - 4s 64ms/step - loss: 0.2505 - accuracy: 0.9213 - val_loss: 0.2752 - val_accuracy: 0.9072\n",
            "Epoch 18/20\n",
            "58/58 [==============================] - 4s 61ms/step - loss: 0.2196 - accuracy: 0.9291 - val_loss: 0.3174 - val_accuracy: 0.9038\n",
            "Epoch 19/20\n",
            "58/58 [==============================] - 4s 62ms/step - loss: 0.2160 - accuracy: 0.9324 - val_loss: 0.3597 - val_accuracy: 0.8900\n",
            "Epoch 20/20\n",
            "58/58 [==============================] - 4s 62ms/step - loss: 0.2252 - accuracy: 0.9306 - val_loss: 0.2993 - val_accuracy: 0.9152\n"
          ]
        }
      ]
    },
    {
      "cell_type": "code",
      "source": [
        "plt.plot(results.history[\"loss\"], label=\"loss\")\n",
        "plt.plot(results.history[\"val_loss\"], label=\"val_loss\")\n",
        "plt.xlabel(\"Epochs\")\n",
        "plt.ylabel(\"Loss\")\n",
        "plt.legend()\n",
        "plt.show()"
      ],
      "metadata": {
        "id": "rQPwceHn_nvK",
        "colab": {
          "base_uri": "https://localhost:8080/",
          "height": 280
        },
        "outputId": "720ef399-8144-49a5-a9ff-152064b005b7"
      },
      "execution_count": 16,
      "outputs": [
        {
          "output_type": "display_data",
          "data": {
            "text/plain": [
              "<Figure size 432x288 with 1 Axes>"
            ],
            "image/png": "[encoded data removed]"
          },
          "metadata": {
            "needs_background": "light"
          }
        }
      ]
    },
    {
      "cell_type": "code",
      "source": [
        "plt.plot(results.history[\"accuracy\"], label=\"accuracy\")\n",
        "plt.plot(results.history[\"val_accuracy\"], label=\"val_accuracy\")\n",
        "plt.xlabel(\"Epochs\")\n",
        "plt.ylabel(\"Accuracy\")\n",
        "plt.legend()\n",
        "plt.show()"
      ],
      "metadata": {
        "id": "3JHx_bwv_yfg",
        "colab": {
          "base_uri": "https://localhost:8080/",
          "height": 279
        },
        "outputId": "8f5aa6ae-52b5-47bb-c950-b168c17b22e6"
      },
      "execution_count": 17,
      "outputs": [
        {
          "output_type": "display_data",
          "data": {
            "text/plain": [
              "<Figure size 432x288 with 1 Axes>"
            ],
            "image/png": "[encoded data removed]"
          },
          "metadata": {
            "needs_background": "light"
          }
        }
      ]
    },
    {
      "cell_type": "code",
      "source": [
        "#Birinci eleman kaybı, ikinci eleman ise doğruluğu ifade ediyor.\n",
        "model.evaluate(X_test, y_test)"
      ],
      "metadata": {
        "id": "VTBGZx4q_72F",
        "colab": {
          "base_uri": "https://localhost:8080/"
        },
        "outputId": "6065fc85-9573-4cae-eedd-393dfb06ade8"
      },
      "execution_count": 18,
      "outputs": [
        {
          "output_type": "stream",
          "name": "stdout",
          "text": [
            "14/14 [==============================] - 0s 16ms/step - loss: 0.2896 - accuracy: 0.9291\n"
          ]
        },
        {
          "output_type": "execute_result",
          "data": {
            "text/plain": [
              "[0.289629727602005, 0.929061770439148]"
            ]
          },
          "metadata": {},
          "execution_count": 18
        }
      ]
    },
    {
      "cell_type": "code",
      "source": [
        "#Örnek Resim:\n",
        "cv2_imshow(X_test[100]*255)\n",
        "prediction_result=model.predict(X_test[100].reshape((1,100,100,1)))\n",
        "prediction_result\n",
        "predicted_class=prediction_result.argmax()\n",
        "predicted_probability=prediction_result.max()\n",
        "\n",
        "print(\"Label: \"+str(y_test[100]))\n",
        "print(\"Prediction: \"+str(predicted_class))\n",
        "print(\"Prediction Probability: \"+str(int(predicted_probability*100))+\"%\")"
      ],
      "metadata": {
        "id": "lIDIlC_GAA34",
        "colab": {
          "base_uri": "https://localhost:8080/",
          "height": 169
        },
        "outputId": "42a3385f-b792-4895-f57a-e234e84ac4a6"
      },
      "execution_count": 19,
      "outputs": [
        {
          "output_type": "display_data",
          "data": {
            "text/plain": [
              "<PIL.Image.Image image mode=L size=100x100 at 0x7F2F31F4B2D0>"
            ],
            "image/png": "[encoded data removed]"
          },
          "metadata": {}
        },
        {
          "output_type": "stream",
          "name": "stdout",
          "text": [
            "Label: 0\n",
            "Prediction: 0\n",
            "Prediction Probability: 99%\n"
          ]
        }
      ]
    },
    {
      "cell_type": "code",
      "source": [],
      "metadata": {
        "id": "PFlRi40Q7IUr"
      },
      "execution_count": null,
      "outputs": []
    }
  ]
}